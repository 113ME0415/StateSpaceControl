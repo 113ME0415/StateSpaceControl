{
 "cells": [
  {
   "cell_type": "code",
   "execution_count": 2,
   "metadata": {
    "collapsed": true
   },
   "outputs": [],
   "source": [
    "%matplotlib inline\n",
    "import control\n",
    "from control.matlab import *\n",
    "import numpy as np"
   ]
  },
  {
   "cell_type": "markdown",
   "metadata": {},
   "source": [
    "# Define a State Space Model\n",
    "\n"
   ]
  },
  {
   "cell_type": "code",
   "execution_count": 3,
   "metadata": {
    "collapsed": true,
    "scrolled": true
   },
   "outputs": [],
   "source": [
    "A = [[0.0,   1.0,  0.0,   0.0],\n",
    "     [0.0,  -0.18, 2.68,  0.0],\n",
    "     [0.00,  0.00, 0.00,  1.00],\n",
    "     [0.00, -0.45, 31.21, 0.00]]\n",
    "\n",
    "B = [[0.00],\n",
    "     [1.82],\n",
    "     [0.00],\n",
    "     [4.55]]\n",
    "\n",
    "C = [[1, 0, 0, 0],[0,0,1,0]]\n",
    "\n",
    "D = [[0],[0]]"
   ]
  },
  {
   "cell_type": "markdown",
   "metadata": {},
   "source": [
    "# Check for Observability and Controllability\n",
    "\n",
    "In order to control a dynamical system, "
   ]
  },
  {
   "cell_type": "code",
   "execution_count": 4,
   "metadata": {},
   "outputs": [
    {
     "name": "stdout",
     "output_type": "stream",
     "text": [
      "True\n",
      "True\n"
     ]
    }
   ],
   "source": [
    "cl = ss(A, B, C, D)\n",
    "\n",
    "print np.linalg.matrix_rank(ctrb(A, B)) == np.array(A).shape[0]\n",
    "print np.linalg.matrix_rank(obsv(A, C)) == np.array(A).shape[0]"
   ]
  },
  {
   "cell_type": "code",
   "execution_count": 21,
   "metadata": {},
   "outputs": [
    {
     "name": "stdout",
     "output_type": "stream",
     "text": [
      "[[ -70.71067812  -37.8232881   105.51674899   20.91640966]]\n",
      " \n",
      "[[  2.23607183e+02   5.06586871e-03]\n",
      " [  8.60869554e-02   3.16850948e+00]\n",
      " [  5.06586871e-03   7.07187253e+02]\n",
      " [  1.54677291e+00   5.69050772e+01]]\n",
      "223.607182685, 0.00506586871498, 0.0860869554476, 3.16850947961, 0.00506586871498, 707.187252521, 1.54677290947, 56.9050772268,\n"
     ]
    }
   ],
   "source": [
    "Q = [[5000, 0, 0,   0],\n",
    "     [0,    0, 0,   0],\n",
    "     [0,    0, 100, 0],\n",
    "     [0,    0, 0,   0]]\n",
    "\n",
    "R = [1]\n",
    "\n",
    "K, _, _ = lqr(A,B,Q,R)\n",
    "\n",
    "Q = [[50000, 0, 0,   0],\n",
    "     [0,    0, 0,   0],\n",
    "     [0,    0, 500000, 0],\n",
    "     [0,    0, 0,   0]]\n",
    "\n",
    "R = [[1,0],[0,1]]\n",
    "\n",
    "L, _, _ = lqr(np.array(A).T,np.array(C).T,Q,R)\n",
    "\n",
    "print K\n",
    "print ' '\n",
    "print L.T\n",
    "\n",
    "for i in L.T:\n",
    "    for j in i:\n",
    "        print str(j) + ',' ,"
   ]
  },
  {
   "cell_type": "code",
   "execution_count": 150,
   "metadata": {
    "scrolled": true
   },
   "outputs": [
    {
     "name": "stdout",
     "output_type": "stream",
     "text": [
      "[-8.49551966+7.93193591j -8.49551966-7.93193591j -4.76012015+0.83113826j\n",
      " -4.76012015-0.83113826j]\n",
      " \n",
      "[ 5.56778052 -5.60644672 -0.14133379  0.        ]\n"
     ]
    }
   ],
   "source": [
    "print pole(ss(A - B * K, B, C, D))\n",
    "print ' '\n",
    "print pole(ss(A, B, C, D))"
   ]
  }
 ],
 "metadata": {
  "kernelspec": {
   "display_name": "Python 2",
   "language": "python",
   "name": "python2"
  },
  "language_info": {
   "codemirror_mode": {
    "name": "ipython",
    "version": 2
   },
   "file_extension": ".py",
   "mimetype": "text/x-python",
   "name": "python",
   "nbconvert_exporter": "python",
   "pygments_lexer": "ipython2",
   "version": "2.7.14"
  }
 },
 "nbformat": 4,
 "nbformat_minor": 2
}
